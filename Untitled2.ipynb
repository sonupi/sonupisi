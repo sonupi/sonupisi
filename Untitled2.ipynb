{
  "nbformat": 4,
  "nbformat_minor": 0,
  "metadata": {
    "colab": {
      "provenance": []
    },
    "kernelspec": {
      "name": "python3",
      "display_name": "Python 3"
    },
    "language_info": {
      "name": "python"
    }
  },
  "cells": [
    {
      "cell_type": "code",
      "execution_count": 8,
      "metadata": {
        "colab": {
          "base_uri": "https://localhost:8080/"
        },
        "id": "WXuNn_dcMg0m",
        "outputId": "1877d89f-65d1-49cd-c82d-75819d9fc489"
      },
      "outputs": [
        {
          "output_type": "stream",
          "name": "stdout",
          "text": [
            "Hello,world\n"
          ]
        }
      ],
      "source": [
        "print('Hello,world')"
      ]
    },
    {
      "cell_type": "code",
      "source": [
        "A = 4\n",
        "B = 7\n",
        "#Addition\n",
        "c = A+B\n",
        "print(\"The sum of two number is \", c)"
      ],
      "metadata": {
        "colab": {
          "base_uri": "https://localhost:8080/"
        },
        "id": "Vp_cKPerNI6M",
        "outputId": "fadbfa0f-44f3-4b1f-b137-c9431fa07a44"
      },
      "execution_count": 12,
      "outputs": [
        {
          "output_type": "stream",
          "name": "stdout",
          "text": [
            "The sum of two number is  11\n"
          ]
        }
      ]
    },
    {
      "cell_type": "code",
      "source": [
        "j = float(input(\"Enter the first number\"))\n",
        "k = float(input(\"Enter the second number\"))\n",
        "l = j*k\n",
        "print(\"the product of two number is\", l)"
      ],
      "metadata": {
        "colab": {
          "base_uri": "https://localhost:8080/"
        },
        "id": "aZSB5vGAR-dd",
        "outputId": "fdcedc37-bac8-46fa-a02f-05e876f24b6a"
      },
      "execution_count": 13,
      "outputs": [
        {
          "output_type": "stream",
          "name": "stdout",
          "text": [
            "Enter the first number678\n",
            "Enter the second number456\n",
            "the product of two number is 309168.0\n"
          ]
        }
      ]
    },
    {
      "cell_type": "markdown",
      "source": [],
      "metadata": {
        "id": "UrEoCZqRTHT9"
      }
    }
  ]
}